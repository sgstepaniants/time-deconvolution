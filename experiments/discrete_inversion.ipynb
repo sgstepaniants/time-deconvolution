{
 "cells": [
  {
   "cell_type": "code",
   "execution_count": 1,
   "metadata": {},
   "outputs": [],
   "source": [
    "import sys\n",
    "import time\n",
    "import math\n",
    "import numpy as np\n",
    "import scipy\n",
    "import matplotlib.pyplot as plt\n",
    "\n",
    "sys.path.append('..')\n",
    "from src.kernels import exp_kernel, complex_exp_kernel, complex_discrete_kernel\n",
    "from src.probability import Distribution\n",
    "from src.spectral_transforms import psi_real_to_circle, psi_inv_circle_to_real, B_real, B_circle\n",
    "from src.numerical import trap_quad, fourier_quad, conv_trap, conv_fourier, volterra_cm_numerical_inversion, volterra_pd_numerical_inversion\n",
    "from src.plotting import plot_real_distribution, plot_discrete\n",
    "\n",
    "plt.rc('text', usetex=True)\n",
    "plt.rc('font', family='serif', size=8)\n",
    "plt.rcParams.update({\n",
    "    'font.size': 8,\n",
    "    'text.usetex': True,\n",
    "    'text.latex.preamble': r\"\\usepackage{amsfonts}\" + \"\\n\" + r\"\\usepackage{amsmath}\" + \"\\n\" + r\"\\usepackage{amssymb}\"\n",
    "})"
   ]
  },
  {
   "cell_type": "code",
   "execution_count": 2,
   "metadata": {},
   "outputs": [
    {
     "name": "stdout",
     "output_type": "stream",
     "text": [
      "0\n",
      "1\n",
      "2\n",
      "3\n",
      "4\n",
      "5\n",
      "6\n",
      "7\n",
      "8\n",
      "9\n",
      "10\n"
     ]
    }
   ],
   "source": [
    "# Define analytical spectral distribution lambda\n",
    "a = 0.9\n",
    "density = None #lambda theta: np.real(2/(1 - a*np.exp(1j*theta)))\n",
    "atoms = np.array([-2, -1, 1, 2])\n",
    "atom_wts = np.array([0.5, 1, 1, 0.5])\n",
    "quad_pts, quad_wts = fourier_quad(-np.pi, np.pi, int(1e4))\n",
    "lmbda = Distribution(density, atoms, atom_wts, quad_pts, quad_wts, periodic_domain=(-np.pi, np.pi))\n",
    "\n",
    "Ts = np.array([1e1, 5e1, 1e2, 5e2, 1e3, 5e3, 1e4, 5e4, 1e5, 5e5, 1e6], dtype=np.int64)\n",
    "trials = 100\n",
    "numTs = len(Ts)\n",
    "\n",
    "spectral_errs = np.zeros((numTs, trials))\n",
    "spectral_errs[:] = np.nan\n",
    "spectral_timings = np.zeros((numTs, trials))\n",
    "spectral_timings[:] = np.nan\n",
    "\n",
    "toeplitz_errs = np.zeros((numTs, trials))\n",
    "toeplitz_errs[:] = np.nan\n",
    "toeplitz_timings = np.zeros((numTs, trials))\n",
    "toeplitz_timings[:] = np.nan\n",
    "\n",
    "triangular_errs = np.zeros((numTs, trials))\n",
    "triangular_errs[:] = np.nan\n",
    "triangular_timings = np.zeros((numTs, trials))\n",
    "triangular_timings[:] = np.nan\n",
    "\n",
    "for i in range(numTs):\n",
    "    print(i)\n",
    "    T = Ts[i]\n",
    "    t = np.arange(0, T)\n",
    "\n",
    "    # Define Volterra equation kernel and coefficients\n",
    "    K = complex_discrete_kernel(lmbda, t)\n",
    "    c1 = -np.sum(atom_wts)/2\n",
    "    \n",
    "    # Define kernel for matrix inversion algorithms\n",
    "    Kc = np.copy(K)\n",
    "    Kc[0] += c1\n",
    "    \n",
    "    for j in range(trials):\n",
    "        # Generate input trajectory x(t)\n",
    "        n_interp = max(20, int(T/50))\n",
    "        interp_xs = np.cumsum(np.insert(np.random.randn(n_interp), 0, 0))/np.sqrt(n_interp)\n",
    "        interp_ts = np.linspace(0, T, n_interp+1)\n",
    "        cs = scipy.interpolate.make_interp_spline(interp_ts, interp_xs, k=5)\n",
    "        x = cs(t)\n",
    "        \n",
    "        # Compute output trajectory y(t)\n",
    "        y = c1*x + conv_fourier(K, x, t)\n",
    "\n",
    "        # Perform Volterra inversion with our theory\n",
    "        t0 = time.time()\n",
    "        mu, zeta1 = B_circle(lmbda, 2*np.imag(c1))\n",
    "        J = 4*complex_discrete_kernel(mu, t)\n",
    "        zeta1 = 2j*zeta1 - J[0]/2\n",
    "        x_spectral = zeta1*y + conv_fourier(J, y, t)\n",
    "        spectral_timings[i, j] = time.time() - t0\n",
    "        spectral_errs[i, j] = np.linalg.norm(x_spectral - x) / np.linalg.norm(x)\n",
    "        \n",
    "        # Perform toeplitz matrix inversion with Richard-Levinson recursion\n",
    "        if T <= 1e5:\n",
    "            t0 = time.time()\n",
    "            x_toeplitz = scipy.linalg.solve_toeplitz((Kc, np.zeros_like(Kc)), y, check_finite=False)\n",
    "            toeplitz_timings[i, j] = time.time() - t0\n",
    "            toeplitz_errs[i, j] = np.linalg.norm(x_toeplitz - x) / np.linalg.norm(x)\n",
    "        \n",
    "        # Perform triangular matrix inversion with forward substitution\n",
    "        if T <= 1e4:\n",
    "            A = scipy.linalg.toeplitz(Kc, np.zeros_like(Kc))\n",
    "            t0 = time.time()\n",
    "            x_triangular = scipy.linalg.solve_triangular(A, y, lower=True, unit_diagonal=False, check_finite=False)\n",
    "            triangular_timings[i, j] = time.time() - t0\n",
    "            triangular_errs[i, j] = np.linalg.norm(x_triangular - x) / np.linalg.norm(x)\n",
    "\n",
    "        #np.savez('discrete_inversion_test.npz',\n",
    "        #    Ts=Ts, spectral_errs=spectral_errs, spectral_timings=spectral_timings, \n",
    "        #    toeplitz_errs=toeplitz_errs, toeplitz_timings=toeplitz_timings, \n",
    "        #    triangular_errs=triangular_errs, triangular_timings=triangular_timings)"
   ]
  },
  {
   "cell_type": "code",
   "execution_count": 20,
   "metadata": {},
   "outputs": [
    {
     "name": "stderr",
     "output_type": "stream",
     "text": [
      "/var/folders/pw/wkdn0vxs0b54swhpwjg6s0x00000gn/T/ipykernel_76725/3468825125.py:3: RuntimeWarning: Mean of empty slice\n",
      "  ax.plot(Ts, np.nanmean(toeplitz_timings, axis=1), color=\"violet\", label=\"Toeplitz Inversion\")\n",
      "/var/folders/pw/wkdn0vxs0b54swhpwjg6s0x00000gn/T/ipykernel_76725/3468825125.py:4: RuntimeWarning: Mean of empty slice\n",
      "  ax.plot(Ts, np.nanmean(triangular_timings, axis=1), color=\"indigo\", label=\"Triangular Inversion\")\n"
     ]
    },
    {
     "data": {
      "image/png": "[encoded data removed]",
      "text/plain": [
       "<Figure size 200x200 with 1 Axes>"
      ]
     },
     "metadata": {},
     "output_type": "display_data"
    },
    {
     "name": "stderr",
     "output_type": "stream",
     "text": [
      "/var/folders/pw/wkdn0vxs0b54swhpwjg6s0x00000gn/T/ipykernel_76725/3468825125.py:16: RuntimeWarning: Mean of empty slice\n",
      "  ax.plot(Ts, np.nanmean(toeplitz_errs, axis=1), color=\"violet\", label=\"Toeplitz Inversion\")\n",
      "/var/folders/pw/wkdn0vxs0b54swhpwjg6s0x00000gn/T/ipykernel_76725/3468825125.py:17: RuntimeWarning: Mean of empty slice\n",
      "  ax.plot(Ts, np.nanmean(triangular_errs, axis=1), color=\"indigo\", label=\"Triangular Inversion\")\n"
     ]
    },
    {
     "data": {
      "image/png": "[encoded data removed]",
      "text/plain": [
       "<Figure size 200x200 with 1 Axes>"
      ]
     },
     "metadata": {},
     "output_type": "display_data"
    }
   ],
   "source": [
    "fig, ax = plt.subplots(figsize=(2, 2))\n",
    "ax.plot(Ts, np.nanmean(spectral_timings, axis=1), color=\"blue\", label=\"Spectral Inversion\")\n",
    "ax.plot(Ts, np.nanmean(toeplitz_timings, axis=1), color=\"violet\", label=\"Toeplitz Inversion\")\n",
    "ax.plot(Ts, np.nanmean(triangular_timings, axis=1), color=\"indigo\", label=\"Triangular Inversion\")\n",
    "ax.plot(Ts, Ts**2/100000000, color=\"k\", linestyle=\"--\")\n",
    "ax.plot(Ts, Ts/10000000, color=\"k\", linestyle=\"--\")\n",
    "ax.set_xlabel(\"Discrete Time Length (n)\")\n",
    "ax.set_ylabel(\"Runtime\")\n",
    "ax.set_xscale(\"log\")\n",
    "ax.set_yscale(\"log\")\n",
    "plt.legend()\n",
    "plt.show()\n",
    "\n",
    "fig, ax = plt.subplots(figsize=(2, 2))\n",
    "ax.plot(Ts, np.nanmean(spectral_errs, axis=1), color=\"blue\", label=\"Spectral Inversion\")\n",
    "ax.plot(Ts, np.nanmean(toeplitz_errs, axis=1), color=\"violet\", label=\"Toeplitz Inversion\")\n",
    "ax.plot(Ts, np.nanmean(triangular_errs, axis=1), color=\"indigo\", label=\"Triangular Inversion\")\n",
    "ax.set_xlabel(\"Discrete Time Length (n)\")\n",
    "ax.set_ylabel(\"Relative Error\")\n",
    "ax.set_xscale(\"log\")\n",
    "ax.set_yscale(\"log\")\n",
    "plt.legend()\n",
    "plt.show()"
   ]
  },
  {
   "cell_type": "code",
   "execution_count": 7,
   "metadata": {},
   "outputs": [
    {
     "name": "stderr",
     "output_type": "stream",
     "text": [
      "/var/folders/pw/wkdn0vxs0b54swhpwjg6s0x00000gn/T/ipykernel_76358/825343658.py:3: RuntimeWarning: Mean of empty slice\n",
      "  plt.plot(Ts, np.nanmean(triangular_errs, axis=1))\n"
     ]
    },
    {
     "data": {
      "image/png": "[encoded data removed]",
      "text/plain": [
       "<Figure size 640x480 with 1 Axes>"
      ]
     },
     "metadata": {},
     "output_type": "display_data"
    }
   ],
   "source": [
    "plt.plot(Ts, np.nanmean(spectral_errs, axis=1))\n",
    "plt.plot(Ts, np.nanmean(toeplitz_errs, axis=1))\n",
    "plt.plot(Ts, np.nanmean(triangular_errs, axis=1))\n",
    "plt.xscale(\"log\")\n",
    "plt.yscale(\"log\")\n",
    "plt.show()"
   ]
  },
  {
   "cell_type": "code",
   "execution_count": 17,
   "metadata": {},
   "outputs": [
    {
     "data": {
      "text/plain": [
       "3.0279159545898438e-05"
      ]
     },
     "execution_count": 17,
     "metadata": {},
     "output_type": "execute_result"
    }
   ],
   "source": [
    "import time\n",
    "x = time.time()\n",
    "y = time.time() - x\n",
    "y"
   ]
  },
  {
   "cell_type": "code",
   "execution_count": 20,
   "metadata": {},
   "outputs": [],
   "source": [
    "Kc = np.copy(K)\n",
    "Kc[0] += c1"
   ]
  },
  {
   "cell_type": "code",
   "execution_count": 21,
   "metadata": {},
   "outputs": [
    {
     "name": "stdout",
     "output_type": "stream",
     "text": [
      "2.6092112641165916e-10\n"
     ]
    }
   ],
   "source": [
    "x_toeplitz = scipy.linalg.solve_toeplitz((Kc, np.zeros_like(Kc)), y, check_finite=False)\n",
    "rel_err_toeplitz = np.linalg.norm(x_toeplitz - x) / np.linalg.norm(x)\n",
    "print(rel_err_toeplitz)"
   ]
  },
  {
   "cell_type": "code",
   "execution_count": 23,
   "metadata": {},
   "outputs": [
    {
     "ename": "",
     "evalue": "",
     "output_type": "error",
     "traceback": [
      "\u001b[1;31mCannot execute code, session has been disposed. Please try restarting the Kernel."
     ]
    },
    {
     "ename": "",
     "evalue": "",
     "output_type": "error",
     "traceback": [
      "\u001b[1;31mCannot execute code, session has been disposed. Please try restarting the Kernel. \n",
      "\u001b[1;31mView Jupyter <a href='command:jupyter.viewOutput'>log</a> for further details."
     ]
    }
   ],
   "source": [
    "A = scipy.linalg.toeplitz(Kc, np.zeros_like(Kc))\n",
    "x_triangular = scipy.linalg.solve_triangular(A, y, lower=True, unit_diagonal=True, check_finite=False)\n",
    "rel_err_triangular = np.linalg.norm(x_triangular - x) / np.linalg.norm(x)\n",
    "print(rel_err_triangular)"
   ]
  },
  {
   "cell_type": "code",
   "execution_count": null,
   "metadata": {},
   "outputs": [],
   "source": [
    "# Define analytical spectral distribution lambda\n",
    "a = 0.9\n",
    "c1 = -1\n",
    "density = lambda theta: np.real(2/(1 - a*np.exp(1j*theta)))\n",
    "atoms = np.array([])\n",
    "atom_wts = np.array([])\n",
    "quad_pts, quad_wts = fourier_quad(-np.pi, np.pi, int(1e4))\n",
    "lmbda = Distribution(density, atoms, atom_wts, quad_pts, quad_wts, periodic_domain=(-np.pi, np.pi))\n",
    "mu, zeta1 = B_circle(lmbda, 2*np.imag(c1))"
   ]
  }
 ],
 "metadata": {
  "kernelspec": {
   "display_name": "base",
   "language": "python",
   "name": "python3"
  },
  "language_info": {
   "codemirror_mode": {
    "name": "ipython",
    "version": 3
   },
   "file_extension": ".py",
   "mimetype": "text/x-python",
   "name": "python",
   "nbconvert_exporter": "python",
   "pygments_lexer": "ipython3",
   "version": "3.9.15"
  }
 },
 "nbformat": 4,
 "nbformat_minor": 2
}
