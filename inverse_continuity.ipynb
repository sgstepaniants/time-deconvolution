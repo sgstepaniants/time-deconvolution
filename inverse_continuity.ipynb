{
 "cells": [
  {
   "cell_type": "code",
   "execution_count": 1,
   "metadata": {},
   "outputs": [],
   "source": [
    "import math\n",
    "import numpy as np\n",
    "import scipy\n",
    "import matplotlib.pyplot as plt\n",
    "\n",
    "from probability import *\n",
    "from hilbert_transform import *\n",
    "from spectral_transforms import *\n",
    "from numerical import *\n",
    "from plotting import *\n",
    "\n",
    "plt.rc('text', usetex=True)\n",
    "plt.rc('font', family='serif', size=8)\n",
    "plt.rcParams.update({\n",
    "    'font.size': 8,\n",
    "    'text.usetex': True,\n",
    "    'text.latex.preamble': r\"\\usepackage{amsfonts}\" + \"\\n\" + r\"\\usepackage{amsmath}\" + \"\\n\" + r\"\\usepackage{amssymb}\"\n",
    "})"
   ]
  },
  {
   "cell_type": "markdown",
   "metadata": {},
   "source": [
    "### Show continuity of map $\\mathcal{B}_\\mathbb{R}[\\lambda^{(n)}, c_0, c_1] \\to \\mathcal{B}_\\mathbb{R}[\\lambda, c_0, c_1]$"
   ]
  },
  {
   "cell_type": "code",
   "execution_count": 36,
   "metadata": {},
   "outputs": [
    {
     "name": "stdout",
     "output_type": "stream",
     "text": [
      "N\n",
      "(0, 1)\n",
      "left and right roots found\n"
     ]
    },
    {
     "data": {
      "image/png": "[encoded data removed]",
      "text/plain": [
       "<Figure size 200x200 with 1 Axes>"
      ]
     },
     "metadata": {},
     "output_type": "display_data"
    },
    {
     "data": {
      "image/png": "[encoded data removed]",
      "text/plain": [
       "<Figure size 200x200 with 1 Axes>"
      ]
     },
     "metadata": {},
     "output_type": "display_data"
    }
   ],
   "source": [
    "N = 50\n",
    "mu = 0\n",
    "sigma = 1\n",
    "print(\"N\")\n",
    "\n",
    "lower = -5*sigma\n",
    "upper = 5*sigma\n",
    "\n",
    "quad_pts, quad_wts = trap_quad(lower, upper, 1000)\n",
    "density = lambda x: np.exp(-x**2/(2*sigma**2)) / np.sqrt(2*math.pi*sigma**2)\n",
    "lmbda = Distribution(density, quad_pts=quad_pts, quad_wts=quad_wts)\n",
    "\n",
    "X = mu + sigma*np.random.randn(N)\n",
    "lmbda_sampled = Distribution(None, X, np.ones(N)/N)\n",
    "\n",
    "c0 = 0\n",
    "c1 = 1\n",
    "print(f\"({c0}, {c1})\")\n",
    "\n",
    "mu, zeta0, zeta1 = B_real(lmbda, c0, c1)\n",
    "mu_sampled, zeta0_sampled, zeta1_sampled = B_real(lmbda_sampled, c0, c1)\n",
    "\n",
    "bins = 100\n",
    "\n",
    "fig, ax = plt.subplots(figsize=(2, 2))\n",
    "hist, bin_edges = np.histogram(lmbda_sampled.atoms, weights=lmbda_sampled.atom_wts, bins=bins)\n",
    "ax.bar(x=bin_edges[:-1], height=hist/np.diff(bin_edges), width=np.diff(bin_edges), color=\"blue\", align='edge')\n",
    "ax.plot(quad_pts, lmbda.density(quad_pts), color=\"k\")\n",
    "ax.set_xlim(lower, upper)\n",
    "ax.legend([\"$\\lambda$\", \"$\\lambda^{(n)}$\"], loc=\"upper right\")\n",
    "plt.savefig(f\"figures/lambda_inverse_cont_N={N}.pdf\", bbox_inches='tight', pad_inches=0.0)\n",
    "plt.show()\n",
    "\n",
    "fig, ax = plt.subplots(figsize=(2, 2))\n",
    "hist, bin_edges = np.histogram(mu_sampled.atoms, weights=mu_sampled.atom_wts, bins=bins)\n",
    "ax.bar(x=bin_edges[:-1], height=hist/np.diff(bin_edges), width=np.diff(bin_edges), color=\"red\", align='edge')\n",
    "ax.plot(quad_pts, mu.density(quad_pts), color=\"k\")\n",
    "ax.set_xlim(lower, upper)\n",
    "ax.legend([\"$\\mu$\", \"$\\mu^{(n)}$\"], loc=\"upper right\")\n",
    "plt.savefig(f\"figures/mu_inverse_cont_N={N}.pdf\", bbox_inches='tight', pad_inches=0.0)\n",
    "plt.show()"
   ]
  },
  {
   "cell_type": "code",
   "execution_count": null,
   "metadata": {},
   "outputs": [],
   "source": []
  }
 ],
 "metadata": {
  "kernelspec": {
   "display_name": "base",
   "language": "python",
   "name": "python3"
  },
  "language_info": {
   "codemirror_mode": {
    "name": "ipython",
    "version": 3
   },
   "file_extension": ".py",
   "mimetype": "text/x-python",
   "name": "python",
   "nbconvert_exporter": "python",
   "pygments_lexer": "ipython3",
   "version": "3.9.15"
  }
 },
 "nbformat": 4,
 "nbformat_minor": 2
}
